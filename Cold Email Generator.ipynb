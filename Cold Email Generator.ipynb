{
 "cells": [
  {
   "cell_type": "code",
   "execution_count": 9,
   "id": "d193a6c1-d877-4a68-8ace-8f1dd719bbbc",
   "metadata": {},
   "outputs": [],
   "source": [
    "import streamlit as st\n",
    "from langchain.chat_models import ChatOpenAI\n",
    "from langchain.prompts import PromptTemplate\n",
    "\n",
    "# Function to generate cold email\n",
    "def generate_email(name, company, job_role, linkedin, portfolio, skills):\n",
    "    template = PromptTemplate.from_template(\n",
    "        \"\"\"\n",
    "        Generate a professional cold email for a fresh graduate looking for a job.\n",
    "        \n",
    "        Name: {name}\n",
    "        Company: {company}\n",
    "        Job Role: {job_role}\n",
    "        LinkedIn: {linkedin}\n",
    "        Portfolio: {portfolio}\n",
    "        Key Skills: {skills}\n",
    "        \n",
    "        The email should be concise, polite, and highlight the applicant's enthusiasm.\n",
    "        \"\"\"\n",
    "    )\n",
    "    \n",
    "    model = ChatOpenAI(temperature=0.7)\n",
    "    response = model(template.format(name=name, company=company, job_role=job_role, \n",
    "                                     linkedin=linkedin, portfolio=portfolio, skills=skills))\n",
    "    return response\n",
    "\n",
    "# Streamlit UI\n",
    "st.title(\"🎯 Cold Email Generator for Job Seekers\")\n",
    "st.write(\"Generate a professional cold email for job applications.\")\n",
    "\n",
    "name = st.text_input(\"Your Name\")\n",
    "company = st.text_input(\"Company Name\")\n",
    "job_role = st.text_input(\"Job Role\")\n",
    "linkedin = st.text_input(\"LinkedIn Profile Link\")\n",
    "portfolio = st.text_input(\"Portfolio/GitHub Link\")\n",
    "skills = st.text_area(\"Key Skills (comma separated)\")\n",
    "\n",
    "if st.button(\"Generate Email\"):\n",
    "    if name and company and job_role:\n",
    "        email_text = generate_email(name, company, job_role, linkedin, portfolio, skills)\n",
    "        st.subheader(\"Your Cold Email:\")\n",
    "        st.write(email_text)\n",
    "    else:\n",
    "        st.warning(\"Please fill in all required fields.\")"
   ]
  },
  {
   "cell_type": "code",
   "execution_count": null,
   "id": "eb4faf45-2afc-48a2-81e8-b88d64f37ae6",
   "metadata": {},
   "outputs": [],
   "source": []
  },
  {
   "cell_type": "code",
   "execution_count": null,
   "id": "711f3776-0c75-4913-8d65-82f4ee2739b0",
   "metadata": {},
   "outputs": [],
   "source": []
  }
 ],
 "metadata": {
  "kernelspec": {
   "display_name": "Python 3 (ipykernel)",
   "language": "python",
   "name": "python3"
  },
  "language_info": {
   "codemirror_mode": {
    "name": "ipython",
    "version": 3
   },
   "file_extension": ".py",
   "mimetype": "text/x-python",
   "name": "python",
   "nbconvert_exporter": "python",
   "pygments_lexer": "ipython3",
   "version": "3.12.7"
  }
 },
 "nbformat": 4,
 "nbformat_minor": 5
}
